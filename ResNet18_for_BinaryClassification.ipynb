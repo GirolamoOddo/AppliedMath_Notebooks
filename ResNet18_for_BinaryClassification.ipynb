{
  "nbformat": 4,
  "nbformat_minor": 0,
  "metadata": {
    "colab": {
      "provenance": [],
      "toc_visible": true,
      "gpuType": "T4",
      "include_colab_link": true
    },
    "kernelspec": {
      "name": "python3",
      "display_name": "Python 3"
    },
    "language_info": {
      "name": "python"
    },
    "accelerator": "GPU"
  },
  "cells": [
    {
      "cell_type": "markdown",
      "metadata": {
        "id": "view-in-github",
        "colab_type": "text"
      },
      "source": [
        "<a href=\"https://colab.research.google.com/github/GirolamoOddo/AppliedMath_Notebooks/blob/main/ResNet18_for_BinaryClassification.ipynb\" target=\"_parent\"><img src=\"https://colab.research.google.com/assets/colab-badge.svg\" alt=\"Open In Colab\"/></a>"
      ]
    },
    {
      "cell_type": "markdown",
      "source": [
        "##ResNet18 for Binary Classification\n",
        "_This work leverages the power of the Residual Neural Network (ResNet) architecture, specifically ResNet18, for the task of binary classification. ResNet18 is a deep convolutional neural network known for its efficiency and effectiveness in image recognition tasks._  \n",
        "\n",
        "###Usage:\n",
        "Data Preparation: Ensure your dataset is properly organized with two classes.\n",
        "Model Training: Use the provided script to train the ResNet18 model on your dataset. Adjust hyperparameters as needed.\n",
        "Evaluation: Evaluate the trained model on your test set to assess its performance.\n",
        "Inference: Apply the model for binary classification on new images.   \n",
        ">\n",
        "\n",
        "Please note tht this notebook run properly with this core dependencies:  \n",
        ">numpy: 1.23.5  \n",
        ">torch: 2.1.0+cu121  \n",
        ">torchvision: 0.16.0+cu121  \n",
        ">matplotlib: 3.7.1  \n",
        "\n",
        "Assumption:\n",
        "\n",
        "\n",
        "*   Images are 500x500 px\n",
        "*   Images are b/w\n"
      ],
      "metadata": {
        "id": "EyxYejmq2wUg"
      }
    },
    {
      "cell_type": "code",
      "source": [
        "#@title ####IMPORTS\n",
        "import os\n",
        "import torch\n",
        "import torch.nn as nn\n",
        "import torchvision.models as models\n",
        "import torchvision.transforms as transforms\n",
        "from torchvision.datasets import ImageFolder\n",
        "from torch.utils.data import DataLoader\n",
        "from sklearn.metrics import precision_score, recall_score, f1_score\n",
        "from sklearn.metrics import confusion_matrix\n",
        "import matplotlib.pyplot as plt\n",
        "import numpy as np\n",
        "\n",
        "#_______________________________________________________________________________\n",
        "# CHECK PACKAGES VERSION:\n",
        "#_______________________________________________________________________________\n",
        "#import os\n",
        "#packages = [\n",
        "#    'numpy',\n",
        "#    'torch',\n",
        "#    'torchvision',\n",
        "#    'matplotlib',\n",
        "#    'sklearn',\n",
        "#]\n",
        "#\n",
        "#for package in packages:\n",
        "#    try:\n",
        "#        version = os.popen(f\"pip show {package} | grep Version\").read().strip().split(': ')[1]\n",
        "#        print(f\"{package}: {version}\")\n",
        "#    except Exception as e:\n",
        "#        print(f\"Error getting version for {package}: {e}\")\n",
        "#\n",
        "#_______________________________________________________________________________\n",
        "# THE FOLLOWING CODE WORKS PROPERLY WITH THESE PACKAGES VERSION:\n",
        "#_______________________________________________________________________________\n",
        "#numpy: 1.23.5\n",
        "#torch: 2.1.0+cu121\n",
        "#torchvision: 0.16.0+cu121\n",
        "#matplotlib: 3.7.1\n",
        "#_______________________________________________________________________________"
      ],
      "metadata": {
        "id": "r6v_CFWbF2Qv",
        "cellView": "form"
      },
      "execution_count": null,
      "outputs": []
    },
    {
      "cell_type": "markdown",
      "source": [
        "# Import Dataset and Preprocessing"
      ],
      "metadata": {
        "id": "gEyDTYPa8AR0"
      }
    },
    {
      "cell_type": "markdown",
      "source": [
        "We now import the example dataset:\n",
        "\n",
        "the dataset used is a reduced two-class version (star, triangle) of the Kaggle dataset.  \n",
        "\n",
        "![dummyset.PNG](data:image/png;base64,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)\n",
        "\n",
        "\n",
        "take care to download the set to your drive and update the path.\n",
        "\n",
        "Plese follow this structure to store the dataset:\n",
        "\n",
        "sets\n",
        "> training_set\n",
        ">> Class_0  \n",
        ">> Class_1\n",
        "\n",
        "> test_set\n",
        ">> Class_0  \n",
        ">> Class_1\n",
        "\n",
        "\n",
        "Full Kaggle dataset:  \n",
        "https://www.kaggle.com/datasets/smeschke/four-shapes"
      ],
      "metadata": {
        "id": "HfnknQ54XxiS"
      }
    },
    {
      "cell_type": "code",
      "source": [
        "#@title ####DATASET PATH\n",
        "%%capture\n",
        "\n",
        "from google.colab import drive\n",
        "drive.mount('/content/drive',force_remount=True)\n",
        "\n",
        "# Correct the path for your Drive\n",
        "train_data_path = '/content/drive/MyDrive/colab_notebooks/colab_set/colab_train'\n",
        "test_data_path = '/content/drive/MyDrive/colab_notebooks/colab_set/colab_test'"
      ],
      "metadata": {
        "id": "P1yIyFG-OV1r",
        "cellView": "form"
      },
      "execution_count": null,
      "outputs": []
    },
    {
      "cell_type": "markdown",
      "source": [
        "We now exploit Data Augmentation techniques to extend the original dataset. In particular we apply rotations and exposure change only as the set is b/w.\n",
        "\n",
        "Finally we remap all images to 500x500 px to equalize the input to the network."
      ],
      "metadata": {
        "id": "LgwSxMzOYJfU"
      }
    },
    {
      "cell_type": "code",
      "source": [
        "#@title ####IMAGE LOADING & PROCESSING\n",
        "\n",
        "%%capture\n",
        "# Define transformatins for Data Augmentation\n",
        "train_transform = transforms.Compose([\n",
        "    transforms.RandomHorizontalFlip(),\n",
        "    transforms.RandomVerticalFlip(),\n",
        "    transforms.ColorJitter(brightness=0.2, contrast=0.2),\n",
        "    transforms.RandomRotation(degrees=30),\n",
        "    transforms.Resize((500, 500)),\n",
        "    transforms.ToTensor(),\n",
        "])\n",
        "\n",
        "test_transform = transforms.Compose([\n",
        "    transforms.Resize((500, 500)),\n",
        "    transforms.ToTensor(),\n",
        "])\n",
        "\n",
        "# Load the dataset\n",
        "train_dataset = ImageFolder(train_data_path, transform=train_transform)\n",
        "test_dataset = ImageFolder(test_data_path, transform=test_transform)\n",
        "\n",
        "# Built the DataLoader\n",
        "train_loader = DataLoader(train_dataset, batch_size=32, shuffle=True)\n",
        "test_loader = DataLoader(test_dataset, batch_size=32, shuffle=False)"
      ],
      "metadata": {
        "id": "3bdGPRsgOVyX",
        "cellView": "form"
      },
      "execution_count": null,
      "outputs": []
    },
    {
      "cell_type": "markdown",
      "source": [
        "# Loading, Training and Testing ResNet18"
      ],
      "metadata": {
        "id": "cbfqkXry8M_Z"
      }
    },
    {
      "cell_type": "markdown",
      "source": [
        "We now load the resnet18 network and praparate the last layer for binary classification.\n",
        "\n",
        "ResNet18 Modified for Binary Classification:  \n",
        "\n",
        "![Immagine1.png](data:image/png;base64,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)\n",
        "\n",
        "Recap:  \n",
        "![tabel.PNG](data:image/png;base64,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)"
      ],
      "metadata": {
        "id": "Ylo7Mx-cYVBL"
      }
    },
    {
      "cell_type": "code",
      "source": [
        "#@title ####LOAD & MODIFY RESNET18\n",
        "\n",
        "# Load ResNet18\n",
        "pretrained = 'True'\n",
        "\n",
        "if pretrained == 'False':\n",
        "   resnet = models.resnet18()\n",
        "   num_ftrs = resnet.fc.in_features\n",
        "   resnet.fc = nn.Linear(num_ftrs, 2)\n",
        "   nn.init.xavier_uniform_(resnet.fc.weight)\n",
        "   nn.init.zeros_(resnet.fc.bias)\n",
        "else:\n",
        "  resnet = models.resnet18(pretrained=True) #future torchvision versions may require:  resnet = models.ResNet18_Weights.DEFAULT\n",
        "  num_ftrs = resnet.fc.in_features\n",
        "  resnet.fc = nn.Linear(num_ftrs, 2)\n",
        "\n",
        "# Add a Softmax layer at the end\n",
        "resnet.fc = nn.Sequential(\n",
        "    nn.Linear(num_ftrs, 2),\n",
        "    nn.Softmax(dim=1)\n",
        ")\n",
        "# Define loss function and optimizer\n",
        "criterion = nn.CrossEntropyLoss()\n",
        "optimizer = torch.optim.Adam(resnet.parameters(), lr=0.001)\n",
        "# Choose the device\n",
        "device = torch.device(\"cuda\" if torch.cuda.is_available() else \"cpu\")\n",
        "resnet.to(device)"
      ],
      "metadata": {
        "colab": {
          "base_uri": "https://localhost:8080/"
        },
        "id": "KrBHR_2y944k",
        "outputId": "4412db58-9d2a-4841-d992-3c0067dab20a",
        "cellView": "form"
      },
      "execution_count": null,
      "outputs": [
        {
          "output_type": "execute_result",
          "data": {
            "text/plain": [
              "ResNet(\n",
              "  (conv1): Conv2d(3, 64, kernel_size=(7, 7), stride=(2, 2), padding=(3, 3), bias=False)\n",
              "  (bn1): BatchNorm2d(64, eps=1e-05, momentum=0.1, affine=True, track_running_stats=True)\n",
              "  (relu): ReLU(inplace=True)\n",
              "  (maxpool): MaxPool2d(kernel_size=3, stride=2, padding=1, dilation=1, ceil_mode=False)\n",
              "  (layer1): Sequential(\n",
              "    (0): BasicBlock(\n",
              "      (conv1): Conv2d(64, 64, kernel_size=(3, 3), stride=(1, 1), padding=(1, 1), bias=False)\n",
              "      (bn1): BatchNorm2d(64, eps=1e-05, momentum=0.1, affine=True, track_running_stats=True)\n",
              "      (relu): ReLU(inplace=True)\n",
              "      (conv2): Conv2d(64, 64, kernel_size=(3, 3), stride=(1, 1), padding=(1, 1), bias=False)\n",
              "      (bn2): BatchNorm2d(64, eps=1e-05, momentum=0.1, affine=True, track_running_stats=True)\n",
              "    )\n",
              "    (1): BasicBlock(\n",
              "      (conv1): Conv2d(64, 64, kernel_size=(3, 3), stride=(1, 1), padding=(1, 1), bias=False)\n",
              "      (bn1): BatchNorm2d(64, eps=1e-05, momentum=0.1, affine=True, track_running_stats=True)\n",
              "      (relu): ReLU(inplace=True)\n",
              "      (conv2): Conv2d(64, 64, kernel_size=(3, 3), stride=(1, 1), padding=(1, 1), bias=False)\n",
              "      (bn2): BatchNorm2d(64, eps=1e-05, momentum=0.1, affine=True, track_running_stats=True)\n",
              "    )\n",
              "  )\n",
              "  (layer2): Sequential(\n",
              "    (0): BasicBlock(\n",
              "      (conv1): Conv2d(64, 128, kernel_size=(3, 3), stride=(2, 2), padding=(1, 1), bias=False)\n",
              "      (bn1): BatchNorm2d(128, eps=1e-05, momentum=0.1, affine=True, track_running_stats=True)\n",
              "      (relu): ReLU(inplace=True)\n",
              "      (conv2): Conv2d(128, 128, kernel_size=(3, 3), stride=(1, 1), padding=(1, 1), bias=False)\n",
              "      (bn2): BatchNorm2d(128, eps=1e-05, momentum=0.1, affine=True, track_running_stats=True)\n",
              "      (downsample): Sequential(\n",
              "        (0): Conv2d(64, 128, kernel_size=(1, 1), stride=(2, 2), bias=False)\n",
              "        (1): BatchNorm2d(128, eps=1e-05, momentum=0.1, affine=True, track_running_stats=True)\n",
              "      )\n",
              "    )\n",
              "    (1): BasicBlock(\n",
              "      (conv1): Conv2d(128, 128, kernel_size=(3, 3), stride=(1, 1), padding=(1, 1), bias=False)\n",
              "      (bn1): BatchNorm2d(128, eps=1e-05, momentum=0.1, affine=True, track_running_stats=True)\n",
              "      (relu): ReLU(inplace=True)\n",
              "      (conv2): Conv2d(128, 128, kernel_size=(3, 3), stride=(1, 1), padding=(1, 1), bias=False)\n",
              "      (bn2): BatchNorm2d(128, eps=1e-05, momentum=0.1, affine=True, track_running_stats=True)\n",
              "    )\n",
              "  )\n",
              "  (layer3): Sequential(\n",
              "    (0): BasicBlock(\n",
              "      (conv1): Conv2d(128, 256, kernel_size=(3, 3), stride=(2, 2), padding=(1, 1), bias=False)\n",
              "      (bn1): BatchNorm2d(256, eps=1e-05, momentum=0.1, affine=True, track_running_stats=True)\n",
              "      (relu): ReLU(inplace=True)\n",
              "      (conv2): Conv2d(256, 256, kernel_size=(3, 3), stride=(1, 1), padding=(1, 1), bias=False)\n",
              "      (bn2): BatchNorm2d(256, eps=1e-05, momentum=0.1, affine=True, track_running_stats=True)\n",
              "      (downsample): Sequential(\n",
              "        (0): Conv2d(128, 256, kernel_size=(1, 1), stride=(2, 2), bias=False)\n",
              "        (1): BatchNorm2d(256, eps=1e-05, momentum=0.1, affine=True, track_running_stats=True)\n",
              "      )\n",
              "    )\n",
              "    (1): BasicBlock(\n",
              "      (conv1): Conv2d(256, 256, kernel_size=(3, 3), stride=(1, 1), padding=(1, 1), bias=False)\n",
              "      (bn1): BatchNorm2d(256, eps=1e-05, momentum=0.1, affine=True, track_running_stats=True)\n",
              "      (relu): ReLU(inplace=True)\n",
              "      (conv2): Conv2d(256, 256, kernel_size=(3, 3), stride=(1, 1), padding=(1, 1), bias=False)\n",
              "      (bn2): BatchNorm2d(256, eps=1e-05, momentum=0.1, affine=True, track_running_stats=True)\n",
              "    )\n",
              "  )\n",
              "  (layer4): Sequential(\n",
              "    (0): BasicBlock(\n",
              "      (conv1): Conv2d(256, 512, kernel_size=(3, 3), stride=(2, 2), padding=(1, 1), bias=False)\n",
              "      (bn1): BatchNorm2d(512, eps=1e-05, momentum=0.1, affine=True, track_running_stats=True)\n",
              "      (relu): ReLU(inplace=True)\n",
              "      (conv2): Conv2d(512, 512, kernel_size=(3, 3), stride=(1, 1), padding=(1, 1), bias=False)\n",
              "      (bn2): BatchNorm2d(512, eps=1e-05, momentum=0.1, affine=True, track_running_stats=True)\n",
              "      (downsample): Sequential(\n",
              "        (0): Conv2d(256, 512, kernel_size=(1, 1), stride=(2, 2), bias=False)\n",
              "        (1): BatchNorm2d(512, eps=1e-05, momentum=0.1, affine=True, track_running_stats=True)\n",
              "      )\n",
              "    )\n",
              "    (1): BasicBlock(\n",
              "      (conv1): Conv2d(512, 512, kernel_size=(3, 3), stride=(1, 1), padding=(1, 1), bias=False)\n",
              "      (bn1): BatchNorm2d(512, eps=1e-05, momentum=0.1, affine=True, track_running_stats=True)\n",
              "      (relu): ReLU(inplace=True)\n",
              "      (conv2): Conv2d(512, 512, kernel_size=(3, 3), stride=(1, 1), padding=(1, 1), bias=False)\n",
              "      (bn2): BatchNorm2d(512, eps=1e-05, momentum=0.1, affine=True, track_running_stats=True)\n",
              "    )\n",
              "  )\n",
              "  (avgpool): AdaptiveAvgPool2d(output_size=(1, 1))\n",
              "  (fc): Sequential(\n",
              "    (0): Linear(in_features=512, out_features=2, bias=True)\n",
              "    (1): Softmax(dim=1)\n",
              "  )\n",
              ")"
            ]
          },
          "metadata": {},
          "execution_count": 26
        }
      ]
    },
    {
      "cell_type": "markdown",
      "source": [
        "In this section we perform network training and subsequent testing."
      ],
      "metadata": {
        "id": "o4xtEMKxYZxn"
      }
    },
    {
      "cell_type": "code",
      "source": [
        "#@title ####TRAIN THE NETWORK\n",
        "\n",
        "num_epochs = 3  # This is sufficent due to the triviality of the task\n",
        "for epoch in range(num_epochs):\n",
        "    resnet.train()\n",
        "    total_train_correct = 0\n",
        "    total_train_samples = 0\n",
        "    for images, labels in train_loader:\n",
        "        images, labels = images.to(device), labels.to(device)\n",
        "        optimizer.zero_grad()\n",
        "        outputs = resnet(images)\n",
        "        loss = criterion(outputs, labels)\n",
        "        loss.backward()\n",
        "        optimizer.step()\n",
        "\n",
        "        _, predicted = torch.max(outputs.data, 1)\n",
        "        total_train_samples += labels.size(0)\n",
        "        total_train_correct += (predicted == labels).sum().item()\n",
        "\n",
        "    train_accuracy = 100 * total_train_correct / total_train_samples\n",
        "\n",
        "    resnet.eval()\n",
        "    total_test_correct = 0\n",
        "    total_test_samples = 0\n",
        "    all_predicted_labels = []\n",
        "    all_true_labels = []\n",
        "    with torch.no_grad():\n",
        "        for images, labels in test_loader:\n",
        "            images, labels = images.to(device), labels.to(device)\n",
        "            outputs = resnet(images)\n",
        "            _, predicted = torch.max(outputs.data, 1)\n",
        "            total_test_samples += labels.size(0)\n",
        "            total_test_correct += (predicted == labels).sum().item()\n",
        "\n",
        "            all_predicted_labels.extend(predicted.cpu().numpy())\n",
        "            all_true_labels.extend(labels.cpu().numpy())\n",
        "\n",
        "    test_accuracy = 100 * total_test_correct / total_test_samples\n",
        "\n",
        "    print(f\"Epoch [{epoch+1}/{num_epochs}] - Train Accuracy: {train_accuracy:.2f}% - Test Accuracy: {test_accuracy:.2f}%\")\n",
        "\n"
      ],
      "metadata": {
        "colab": {
          "base_uri": "https://localhost:8080/"
        },
        "id": "7q2QvlKsCBIf",
        "outputId": "e9695091-769b-4d68-ba39-0efbe579c310",
        "cellView": "form"
      },
      "execution_count": null,
      "outputs": [
        {
          "output_type": "stream",
          "name": "stdout",
          "text": [
            "Epoch [1/3] - Train Accuracy: 99.35% - Test Accuracy: 100.00%\n",
            "Epoch [2/3] - Train Accuracy: 100.00% - Test Accuracy: 100.00%\n",
            "Epoch [3/3] - Train Accuracy: 100.00% - Test Accuracy: 100.00%\n"
          ]
        }
      ]
    },
    {
      "cell_type": "markdown",
      "source": [
        "# Performance Analysis"
      ],
      "metadata": {
        "id": "bvnCKRhC8g32"
      }
    },
    {
      "cell_type": "markdown",
      "source": [
        "Now we analyze performance in classification by exploring the confusion matrix, it is a matrix where false positives and false negatives are highlighted."
      ],
      "metadata": {
        "id": "PnSbHKnLYtWC"
      }
    },
    {
      "cell_type": "code",
      "source": [
        "#@title ####CONFUSION MATRIX (TEST)\n",
        "\n",
        "# Confusion matrix\n",
        "confusion_mtx = confusion_matrix(all_true_labels, all_predicted_labels)\n",
        "\n",
        "print(\"Confusion Matrix:\")\n",
        "print(confusion_mtx)\n",
        "\n",
        "classes = ['Star', 'Triangle']\n",
        "plt.imshow(confusion_mtx, interpolation='nearest', cmap=plt.cm.Blues)\n",
        "plt.title(\"Confusion Matrix\")\n",
        "plt.colorbar()\n",
        "tick_marks = np.arange(len(classes))\n",
        "plt.xticks(tick_marks, classes, rotation=45)\n",
        "plt.yticks(tick_marks, classes)\n",
        "plt.xlabel(\"Predicted\")\n",
        "plt.ylabel(\"True\")\n",
        "plt.show()"
      ],
      "metadata": {
        "colab": {
          "base_uri": "https://localhost:8080/",
          "height": 558
        },
        "id": "N1gOxPJaPMJv",
        "outputId": "8f011559-6262-48b8-84d7-c7a4f25b3460",
        "cellView": "form"
      },
      "execution_count": null,
      "outputs": [
        {
          "output_type": "stream",
          "name": "stdout",
          "text": [
            "Confusion Matrix:\n",
            "[[101   0]\n",
            " [  0 101]]\n"
          ]
        },
        {
          "output_type": "display_data",
          "data": {
            "text/plain": [
              "<Figure size 640x480 with 2 Axes>"
            ],
            "image/png": "[encoded data removed]"
          },
          "metadata": {}
        }
      ]
    },
    {
      "cell_type": "markdown",
      "source": [
        "We conclude with an analysis of some metrics:\n",
        "\n",
        "Precision and Recall:  \n",
        "https://en.wikipedia.org/wiki/Precision_and_recall\n",
        "\n",
        "F1:  \n",
        "https://en.wikipedia.org/wiki/F-score\n",
        "\n"
      ],
      "metadata": {
        "id": "SEhVGmNnY1vg"
      }
    },
    {
      "cell_type": "code",
      "source": [
        "#@title ####F1-SCORE (TEST)\n",
        "\n",
        "from sklearn.metrics import precision_score, recall_score, f1_score\n",
        "\n",
        "# Metrics for \"Star\" (label 0)\n",
        "precision_star = precision_score(all_true_labels, all_predicted_labels, pos_label=0)\n",
        "recall_star = recall_score(all_true_labels, all_predicted_labels, pos_label=0)\n",
        "f1_star = f1_score(all_true_labels, all_predicted_labels, pos_label=0)\n",
        "\n",
        "# Metrics for \"Triangle\" (label 1)\n",
        "precision_triangle = precision_score(all_true_labels, all_predicted_labels, pos_label=1)\n",
        "recall_triangle = recall_score(all_true_labels, all_predicted_labels, pos_label=1)\n",
        "f1_triangle = f1_score(all_true_labels, all_predicted_labels, pos_label=1)\n",
        "\n",
        "print(\"Metrics for Star class:\")\n",
        "print(f\"Precision: {precision_star:.2f}\")\n",
        "print(f\"Recall: {recall_star:.2f}\")\n",
        "print(f\"F1-score: {f1_star:.2f}\")\n",
        "\n",
        "print(\"\\nMetrics for Triangle class:\")\n",
        "print(f\"Precision: {precision_triangle:.2f}\")\n",
        "print(f\"Recall: {recall_triangle:.2f}\")\n",
        "print(f\"F1-score: {f1_triangle:.2f}\")"
      ],
      "metadata": {
        "colab": {
          "base_uri": "https://localhost:8080/"
        },
        "id": "mUVhAmpxU4O3",
        "outputId": "aab0eceb-19b7-401c-bed9-66ee5da29f3c",
        "cellView": "form"
      },
      "execution_count": null,
      "outputs": [
        {
          "output_type": "stream",
          "name": "stdout",
          "text": [
            "Metrics for Star class:\n",
            "Precision: 1.00\n",
            "Recall: 1.00\n",
            "F1-score: 1.00\n",
            "\n",
            "Metrics for Triangle class:\n",
            "Precision: 1.00\n",
            "Recall: 1.00\n",
            "F1-score: 1.00\n"
          ]
        }
      ]
    },
    {
      "cell_type": "markdown",
      "source": [
        "Here you can save the model if the results obtained are in line with expectations or you can simply re-train the network by varying the number of epochs, the initialization, the optimizer or the loss metrics."
      ],
      "metadata": {
        "id": "zzBMMLe9qVQk"
      }
    },
    {
      "cell_type": "code",
      "source": [
        "#@title ####EXPORT MODEL\n",
        "\n",
        "# Salve the model in your Drive Folder\n",
        "torch.save(resnet, '/content/drive/MyDrive/colab_notebooks/ResNet_binaryclass.pth')\n",
        "print(\"Model Saved.\")"
      ],
      "metadata": {
        "colab": {
          "base_uri": "https://localhost:8080/"
        },
        "id": "X-XjWQdJNrY4",
        "outputId": "6d75af13-375f-45a9-8d38-8a3b23c6243b",
        "cellView": "form"
      },
      "execution_count": null,
      "outputs": [
        {
          "output_type": "stream",
          "name": "stdout",
          "text": [
            "Model Saved.\n"
          ]
        }
      ]
    },
    {
      "cell_type": "markdown",
      "source": [
        "# Make New Clasification with the Trained Model"
      ],
      "metadata": {
        "id": "DuWpt7y1EaDW"
      }
    },
    {
      "cell_type": "markdown",
      "source": [
        "This part of code is independent of the previous blocks and can be executed as long as it has:\n",
        "\n",
        "*   Trained model (ResNet_binaryclass.pth) loaded on Drive\n",
        "*   New samples to classify also loaded on Drive\n",
        "\n",
        "In this section the new sample must follow this organization in the folder:\n",
        "\n",
        "set\n",
        "> newclass_set\n",
        ">> Image0   \n",
        ">> Image1  \n",
        ">> Image2    \n",
        ">> ...\n",
        "\n",
        "\n"
      ],
      "metadata": {
        "id": "xm7d5JcvGHdK"
      }
    },
    {
      "cell_type": "code",
      "source": [
        "#@title ####LOAD MODEL FROM DRIVE\n",
        "\n",
        "# Define the path to the folder with images to classify on your Google Drive\n",
        "to_classify_data_path = '/content/drive/MyDrive/colab_notebooks/colab_set/colab_newclass'\n",
        "# Load the pretrained model from your Google Drive\n",
        "model_path = '/content/drive/MyDrive/colab_notebooks/ResNet_binaryclass.pth'"
      ],
      "metadata": {
        "id": "L2vFgdEqHlC3",
        "cellView": "form"
      },
      "execution_count": null,
      "outputs": []
    },
    {
      "cell_type": "code",
      "source": [
        "#@title ####RUN NEW INFERNCE PROCESS\n",
        "\n",
        "import os\n",
        "import torch\n",
        "import torch.nn as nn\n",
        "import torchvision.models as models\n",
        "import torchvision.transforms as transforms\n",
        "from torch.utils.data import DataLoader\n",
        "import pandas as pd\n",
        "from PIL import Image\n",
        "\n",
        "# Mount Google Drive to access data\n",
        "from google.colab import drive\n",
        "drive.mount('/content/drive')\n",
        "\n",
        "# Transformation consistent with the training and testing phase\n",
        "test_transform = transforms.Compose([\n",
        "    transforms.Resize((500, 500)),\n",
        "    transforms.Grayscale(num_output_channels=3),  # Convert to RGB format\n",
        "    transforms.ToTensor(),\n",
        "])\n",
        "\n",
        "# Create a custom dataset to load images directly\n",
        "class CustomImageDataset(torch.utils.data.Dataset):\n",
        "    def __init__(self, root_dir, transform=None):\n",
        "        self.root_dir = root_dir\n",
        "        self.transform = transform\n",
        "        self.image_files = [f for f in os.listdir(root_dir) if os.path.isfile(os.path.join(root_dir, f))]\n",
        "\n",
        "    def __len__(self):\n",
        "        return len(self.image_files)\n",
        "\n",
        "    def __getitem__(self, idx):\n",
        "        img_name = os.path.join(self.root_dir, self.image_files[idx])\n",
        "        image = Image.open(img_name)\n",
        "\n",
        "        if self.transform:\n",
        "            image = self.transform(image)\n",
        "\n",
        "        return image, img_name  # Also return the image name\n",
        "\n",
        "# Load the custom dataset\n",
        "to_classify_dataset = CustomImageDataset(to_classify_data_path, transform=test_transform)\n",
        "\n",
        "# Create the DataLoader\n",
        "to_classify_loader = DataLoader(to_classify_dataset, batch_size=1, shuffle=False)\n",
        "\n",
        "# Load the entire model, including additional layers\n",
        "loaded_model = torch.load(model_path)\n",
        "loaded_model.eval()\n",
        "\n",
        "# Add the Softmax layer\n",
        "softmax = nn.Softmax(dim=1)\n",
        "\n",
        "# Define a dictionary to map class indices to class names\n",
        "class_names = {\n",
        "    0: 'Star',\n",
        "    1: 'Triangle'\n",
        "}\n",
        "\n",
        "# Classify new images\n",
        "results = []\n",
        "\n",
        "device = torch.device(\"cuda\" if torch.cuda.is_available() else \"cpu\")\n",
        "\n",
        "with torch.no_grad():\n",
        "    for images, image_paths in to_classify_loader:  # Include image names in the loop\n",
        "        images = images.to(device)\n",
        "        outputs = loaded_model(images)\n",
        "        probabilities = softmax(outputs)  # Apply Softmax to logits\n",
        "        _, predicted = torch.max(probabilities, 1)\n",
        "\n",
        "        image_name = os.path.basename(image_paths[0])  # Extract the image name from the list\n",
        "        class_label = class_names[predicted.item()]  # Map index to class name\n",
        "\n",
        "        results.append([image_name, class_label])\n",
        "\n",
        "# Create a DataFrame with the results\n",
        "result_matrix = pd.DataFrame(results, columns=['Image Name', 'Classification'])\n",
        "print(result_matrix)"
      ],
      "metadata": {
        "colab": {
          "base_uri": "https://localhost:8080/"
        },
        "id": "qoy-HMddEuaW",
        "outputId": "c6b3ccb1-e0bb-4907-b04b-86fd50531773",
        "cellView": "form"
      },
      "execution_count": null,
      "outputs": [
        {
          "output_type": "stream",
          "name": "stdout",
          "text": [
            "Drive already mounted at /content/drive; to attempt to forcibly remount, call drive.mount(\"/content/drive\", force_remount=True).\n",
            "    Image Name Classification\n",
            "0     3671.png           Star\n",
            "1     3687.png           Star\n",
            "2     3703.png           Star\n",
            "3     3663.png           Star\n",
            "4     3695.png           Star\n",
            "..         ...            ...\n",
            "120    959.png       Triangle\n",
            "121    999.png       Triangle\n",
            "122    979.png       Triangle\n",
            "123    989.png       Triangle\n",
            "124     99.png       Triangle\n",
            "\n",
            "[125 rows x 2 columns]\n"
          ]
        }
      ]
    }
  ]
}